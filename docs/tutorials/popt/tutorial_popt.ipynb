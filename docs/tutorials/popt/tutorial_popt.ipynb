{
 "cells": [
  {
   "cell_type": "markdown",
   "metadata": {},
   "source": [
    "# Tutorial for running the Python Optimization Toolbox (POPT)\n",
    "\n",
    "<font size=4em>As an illustrative example we choose a 2D-field with one producer and two (water) injectors. The figure below shows the permeability field and the well positions. The grid is 100x100, and the porosity is 0.18. The optimization problem is to find the pressure control for the wells in order to maximize net present value. \n",
    "\n",
    "<img src=\"permx.png\" alt=\"drawing\" width=\"500\"/>\n",
    "    \n",
    "<br>\n",
    "<font size=4em>The first step is to load neccessary external and local modules. "
   ]
  },
  {
   "cell_type": "code",
   "execution_count": 1,
   "metadata": {
    "scrolled": true
   },
   "outputs": [],
   "source": [
    "# Import global modules\n",
    "import os\n",
    "import glob\n",
    "import shutil\n",
    "import logging\n",
    "from glob import glob\n",
    "from copy import deepcopy\n",
    "import numpy as np\n",
    "from scipy.optimize import minimize\n",
    "import matplotlib.pyplot as plt  \n",
    "from scipy.stats import expon\n",
    "\n",
    "# Import local modules\n",
    "from input_output import read_config # functions for reading input\n",
    "from popt.misc_tools import optim_tools as ot # help functions for optimization\n",
    "from popt.loop.optimize import Optimize # The Optimize class contains the iterative loop\n",
    "from popt.loop.ensemble import Ensemble # the Ensemble class contains the objective function\n",
    "from simulator.opm import flow # the simulator we want to use\n",
    "from popt.update_schemes.enopt import EnOpt # the standard EnOpt method\n",
    "from popt.update_schemes.smcopt import SmcOpt # the sequential Monte Carlo method\n",
    "from popt.cost_functions.npv import npv # the cost function"
   ]
  },
  {
   "cell_type": "markdown",
   "metadata": {},
   "source": [
    "<font size=4em>Set the random seed:"
   ]
  },
  {
   "cell_type": "code",
   "execution_count": 2,
   "metadata": {
    "scrolled": true
   },
   "outputs": [],
   "source": [
    "np.random.seed(101122)    "
   ]
  },
  {
   "cell_type": "markdown",
   "metadata": {},
   "source": [
    "<font size=4em>The plottting function is used to display the objective function vs. iterations for different methods:"
   ]
  },
  {
   "cell_type": "code",
   "execution_count": 3,
   "metadata": {
    "scrolled": true
   },
   "outputs": [],
   "source": [
    "def plot_obj_func():\n",
    "    \n",
    "    # Collect all results\n",
    "    path_to_files = './'\n",
    "    path_to_figures = './'  # Save here\n",
    "    if not os.path.exists(path_to_figures):\n",
    "        os.mkdir(path_to_figures)\n",
    "    files = os.listdir(path_to_files)\n",
    "    results = [name for name in files if \"optimize_result\" in name]\n",
    "    num_iter = len(results)\n",
    "\n",
    "    mm = []\n",
    "    for iter in range(num_iter):\n",
    "        info = np.load(str(path_to_files) + 'optimize_result_{}.npz'.format(iter))\n",
    "        if 'best_func' in info:\n",
    "            mm.append(-info['best_func'])\n",
    "        else:\n",
    "            mm.append(-info['obj_func_values'])\n",
    "\n",
    "    f = plt.figure()\n",
    "    plt.plot(mm, 'bs-')\n",
    "    plt.xticks(range(num_iter))\n",
    "    plt.xticks(fontsize = 14)\n",
    "    plt.yticks(fontsize = 14)\n",
    "    plt.xlabel('Iteration no.', size=14)\n",
    "    plt.ylabel('NPV', size=14)\n",
    "    plt.title('Objective function', size=14)\n",
    "    f.tight_layout(pad=2.0)\n",
    "    plt.show()"
   ]
  },
  {
   "cell_type": "markdown",
   "metadata": {},
   "source": [
    "<font size=4em>Remove old results and folders, if present:"
   ]
  },
  {
   "cell_type": "code",
   "execution_count": 4,
   "metadata": {
    "scrolled": true
   },
   "outputs": [],
   "source": [
    "for folder in glob('En_*'):\n",
    "    shutil.rmtree(folder)\n",
    "for file in glob('optimize_result_*'):\n",
    "    os.remove(file)"
   ]
  },
  {
   "cell_type": "markdown",
   "metadata": {},
   "source": [
    "<font size=4em>Read inputfile. In this tutorial the input file is written as a .toml file, and consists of three main keys: <span style=\"font-family:Courier;\">ensemble</span>, <span style=\"font-family:Courier;\">optim</span> and <span style=\"font-family:Courier;\">fwdsim</span>. The first part contains keys related to the ensemble, the second part contains the options for the optimization algorithm and the third part are options related to the forward simulation model and objective function."
   ]
  },
  {
   "cell_type": "code",
   "execution_count": 5,
   "metadata": {
    "scrolled": false
   },
   "outputs": [
    {
     "name": "stdout",
     "output_type": "stream",
     "text": [
      "[ensemble]\r\n",
      "disable_tqdm = true\r\n",
      "ne = 10\r\n",
      "state = [\"injbhp\",\"prodbhp\"]\r\n",
      "prior_injbhp = [\r\n",
      "    [\"mean\",\"init_injbhp.npz\"],\r\n",
      "    [\"var\",6250.0],\r\n",
      "    [\"limits\",100.0,500.0]\r\n",
      "]\r\n",
      "prior_prodbhp = [\r\n",
      "    [\"mean\",\"init_prodbhp.npz\"],\r\n",
      "    [\"var\",6250.0,],\r\n",
      "    [\"limits\",20.0,300.0]\r\n",
      "]\r\n",
      "num_models = 1\r\n",
      "transform = true\r\n",
      "\r\n",
      "[optim]\r\n",
      "maxiter = 5\r\n",
      "tol = 1e-06\r\n",
      "alpha = 0.2\r\n",
      "beta = 0.1\r\n",
      "alpha_maxiter = 3\r\n",
      "resample = 0\r\n",
      "optimizer = 'GA'\r\n",
      "nesterov = true\r\n",
      "restartsave = true\r\n",
      "restart = false\r\n",
      "hessian = false\r\n",
      "inflation_factor = 10\r\n",
      "savedata = [\"alpha\",\"obj_func_values\"]\r\n",
      "\r\n",
      "[fwdsim]\r\n",
      "npv_const = [\r\n",
      "    [\"wop\",283.05],\r\n",
      "    [\"wgp\",0.0],\r\n",
      "    [\"wwp\",37.74],\r\n",
      "    [\"wwi\",12.58],\r\n",
      "    [\"disc\",0.08],\r\n",
      "    [\"obj_scaling\",-1.0e6]\r\n",
      "]\r\n",
      "parallel = 5\r\n",
      "simoptions = ['sim_flag', '--parsing-strictness=low']\r\n",
      "runfile = \"3well\"\r\n",
      "reportpoint = [\r\n",
      "    1994-02-09 00:00:00,\r\n",
      "    1995-01-01 00:00:00,\r\n",
      "    1996-01-01 00:00:00,\r\n",
      "    1997-01-01 00:00:00,\r\n",
      "    1998-01-01 00:00:00,\r\n",
      "    1999-01-01 00:00:00,\r\n",
      "]\r\n",
      "reporttype = \"dates\"\r\n",
      "datatype = [\"fopt\",\"fgpt\",\"fwpt\",\"fwit\"]\r\n"
     ]
    }
   ],
   "source": [
    "!cat init_optim.toml\n",
    "ko, kf, ke = read_config.read_toml('init_optim.toml')"
   ]
  },
  {
   "cell_type": "markdown",
   "metadata": {},
   "source": [
    "<font size=4em>Set initial pressure (note that the filenames correspond to the names given in the input file above):"
   ]
  },
  {
   "cell_type": "code",
   "execution_count": 6,
   "metadata": {
    "scrolled": true
   },
   "outputs": [],
   "source": [
    "init_injbhp = np.array([300.0,250.0])\n",
    "init_prodbhp = np.array([100.0])\n",
    "np.savez('init_injbhp.npz', init_injbhp)\n",
    "np.savez('init_prodbhp.npz', init_prodbhp)"
   ]
  },
  {
   "cell_type": "markdown",
   "metadata": {},
   "source": [
    "<font size=4em>Initialize the simulator with simulator keys."
   ]
  },
  {
   "cell_type": "code",
   "execution_count": 7,
   "metadata": {
    "scrolled": false
   },
   "outputs": [
    {
     "name": "stdout",
     "output_type": "stream",
     "text": [
      "\n",
      "        The inputs are all optional, but in the same fashion as the other simulators a system must be followed.\n",
      "        The input_dict can be utilized as a single input. Here all nescessary info is stored. Alternatively,\n",
      "        if input_dict is not defined, all the other input variables must be defined.\n",
      "\n",
      "        Parameters\n",
      "        ----------\n",
      "        input_dict : dict, optional\n",
      "            Dictionary containing all information required to run the simulator.\n",
      "\n",
      "                - parallel: number of forward simulations run in parallel\n",
      "                - simoptions: options for the simulations\n",
      "                    - sim_path: Path to the simulator\n",
      "                    - sim_flag: Flags sent to the simulator (see simulator documentation for all possibilities)\n",
      "                - runfile: name of the simulation input file\n",
      "                - reportpoint: these are the dates the simulator reports results\n",
      "                - reporttype: this key states that the report poins are given as dates\n",
      "                - datatype: the data types the simulator reports\n",
      "\n",
      "        filename : str, optional\n",
      "            Name of the .mako file utilized to generate the ECL input .DATA file. Must be in uppercase for the\n",
      "            ECL simulator.\n",
      "\n",
      "        options : dict, optional\n",
      "            Dictionary with options for the simulator.\n",
      "\n",
      "        Returns\n",
      "        -------\n",
      "        initial_object : object\n",
      "            Initial object from the class ecl_100.\n",
      "        \n"
     ]
    }
   ],
   "source": [
    "sim = flow(kf)\n",
    "print(flow.__init__.__doc__)"
   ]
  },
  {
   "cell_type": "markdown",
   "metadata": {},
   "source": [
    "<font size=4em>Initialize the ensemble with ensemble keys, the simulator, and the chosen objective function. Here we also extract the initial state (x0), the covariance (cov), and the bounds. "
   ]
  },
  {
   "cell_type": "code",
   "execution_count": 8,
   "metadata": {},
   "outputs": [
    {
     "name": "stdout",
     "output_type": "stream",
     "text": [
      "\n",
      "        Parameters\n",
      "        ----------\n",
      "        keys_en : dict\n",
      "            Options for the ensemble class\n",
      "\n",
      "            - disable_tqdm: supress tqdm progress bar for clean output in the notebook\n",
      "            - ne: number of perturbations used to compute the gradient\n",
      "            - state: name of state variables passed to the .mako file\n",
      "            - prior_<name>: the prior information the state variables, including mean, variance and variable limits\n",
      "            - num_models: number of models (if robust optimization) (default 1)\n",
      "            - transform: transform variables to [0,1] if true (default true)\n",
      "\n",
      "        sim : callable\n",
      "            The forward simulator (e.g. flow)\n",
      "\n",
      "        obj_func : callable\n",
      "            The objective function (e.g. npv)\n",
      "        \n"
     ]
    }
   ],
   "source": [
    "ensemble = Ensemble(ke, sim, npv)\n",
    "print(Ensemble.__init__.__doc__)\n",
    "x0 = ensemble.get_state()\n",
    "cov = ensemble.get_cov()\n",
    "bounds = ensemble.get_bounds()"
   ]
  },
  {
   "cell_type": "markdown",
   "metadata": {},
   "source": [
    "<font size=4em>Example using EnOpt. The input and available options are given below. During optimization, useful information is written to the screen. The same information is also written to a log-file named popt.log. "
   ]
  },
  {
   "cell_type": "code",
   "execution_count": 9,
   "metadata": {
    "scrolled": false
   },
   "outputs": [
    {
     "name": "stdout",
     "output_type": "stream",
     "text": [
      "\n",
      "        Parameters\n",
      "        ----------\n",
      "            fun: callable\n",
      "                objective function\n",
      "\n",
      "            x: ndarray\n",
      "                Initial state\n",
      "\n",
      "            args: tuple\n",
      "                Initial covariance\n",
      "\n",
      "            jac: callable\n",
      "                Gradient function\n",
      "\n",
      "            hess: callable\n",
      "                Hessian function\n",
      "\n",
      "            bounds: list, optional\n",
      "                (min, max) pairs for each element in x. None is used to specify no bound.\n",
      "\n",
      "            options: dict\n",
      "                Optimization options\n",
      "\n",
      "                    - maxiter: maximum number of iterations (default 10)\n",
      "                    - restart: restart optimization from a restart file (default false)\n",
      "                    - restartsave: save a restart file after each successful iteration (defalut false)\n",
      "                    - tol: convergence tolerance for the objective function (default 1e-6)\n",
      "                    - alpha: step size for the steepest decent method (default 0.1)\n",
      "                    - beta: momentum coefficient for running accelerated optimization (default 0.0)\n",
      "                    - alpha_maxiter: maximum number of backtracing trials (default 5)\n",
      "                    - resample: number indicating how many times resampling is tried if no improvement is found\n",
      "                    - optimizer: 'GA' (gradient accent) or Adam (default 'GA')\n",
      "                    - nesterov: use Nesterov acceleration if true (default false)\n",
      "                    - hessian: use Hessian approximation (if the algorithm permits use of Hessian) (default false)\n",
      "                    - normalize: normalize the gradient if true (default true)\n",
      "                    - cov_factor: factor used to shrink the covariance for each resampling trial (defalut 0.5)\n",
      "                    - savedata: specify which class variables to save to the result files (state, objective\n",
      "                                function value, iteration number, number of function evaluations, and number\n",
      "                                of gradient evaluations, are always saved)\n",
      "        \n"
     ]
    },
    {
     "name": "stderr",
     "output_type": "stream",
     "text": [
      "2023-11-28 10:09:49,280 : INFO : popt.loop.optimize :        ====== Running optimization - EnOpt ======\n",
      "2023-11-28 10:09:49,281 : INFO : popt.loop.optimize : \n",
      "{'alpha': 0.2,\n",
      " 'alpha_maxiter': 3,\n",
      " 'beta': 0.1,\n",
      " 'datatype': ['fopt', 'fgpt', 'fwpt', 'fwit'],\n",
      " 'hessian': False,\n",
      " 'inflation_factor': 10,\n",
      " 'maxiter': 5,\n",
      " 'nesterov': True,\n",
      " 'optimizer': 'GA',\n",
      " 'resample': 0,\n",
      " 'restart': False,\n",
      " 'restartsave': True,\n",
      " 'savedata': ['alpha', 'obj_func_values'],\n",
      " 'tol': 1e-06}\n",
      "2023-11-28 10:09:49,282 : INFO : popt.loop.optimize :        iter       alpha_iter obj_func        step-size       cov[0,0]        \n",
      "2023-11-28 10:09:49,282 : INFO : popt.loop.optimize :        0                     -1.9349e-01    \n",
      "2023-11-28 10:09:58,768 : INFO : popt.loop.optimize :        1          0          -3.1656e-01     2.00e-01        3.97e-02       \n",
      "2023-11-28 10:10:07,081 : INFO : popt.loop.optimize :        2          0          -3.7213e-01     2.00e-01        3.97e-02       \n",
      "2023-11-28 10:10:15,673 : INFO : popt.loop.optimize :        3          0          -3.7417e-01     2.00e-01        3.95e-02       \n",
      "2023-11-28 10:10:24,575 : INFO : popt.loop.optimize :        4          0          -3.7614e-01     2.00e-01        3.93e-02       \n",
      "2023-11-28 10:10:36,787 : INFO : popt.loop.optimize :        5          2          -3.7619e-01     5.00e-02        3.97e-02       \n",
      "2023-11-28 10:10:36,800 : INFO : popt.loop.optimize :        Optimization converged in 5 iterations \n",
      "2023-11-28 10:10:36,803 : INFO : popt.loop.optimize :        Optimization converged with final obj_func = -0.3762\n",
      "2023-11-28 10:10:36,805 : INFO : popt.loop.optimize :        Total number of function evaluations = 8\n",
      "2023-11-28 10:10:36,807 : INFO : popt.loop.optimize :        Total number of jacobi evaluations = 5\n",
      "2023-11-28 10:10:36,809 : INFO : popt.loop.optimize :        Total elapsed time = 0.83 minutes\n",
      "2023-11-28 10:10:36,815 : INFO : popt.loop.optimize :        ============================================\n"
     ]
    },
    {
     "data": {
      "text/plain": [
       "<popt.update_schemes.enopt.EnOpt at 0x7f068a2b2040>"
      ]
     },
     "execution_count": 9,
     "metadata": {},
     "output_type": "execute_result"
    }
   ],
   "source": [
    "print(EnOpt.__init__.__doc__)\n",
    "EnOpt(ensemble.function, x0, args=(cov,), jac=ensemble.gradient, hess=ensemble.hessian, bounds=bounds, **ko)"
   ]
  },
  {
   "cell_type": "markdown",
   "metadata": {},
   "source": [
    "<font size=4em>Finally, plot the objective function using the function defined above:"
   ]
  },
  {
   "cell_type": "code",
   "execution_count": 10,
   "metadata": {
    "scrolled": false
   },
   "outputs": [
    {
     "data": {
      "image/png": "[encoded data removed]",
      "text/plain": [
       "<Figure size 640x480 with 1 Axes>"
      ]
     },
     "metadata": {},
     "output_type": "display_data"
    }
   ],
   "source": [
    "plot_obj_func()"
   ]
  },
  {
   "cell_type": "markdown",
   "metadata": {},
   "source": [
    "<font size=4em>Example using the sequential Monte Carlo method. Here we also save the best state (which is not the mean of the ensemble simulations) and the corresponding best objective function value: "
   ]
  },
  {
   "cell_type": "code",
   "execution_count": 11,
   "metadata": {
    "scrolled": false
   },
   "outputs": [
    {
     "name": "stdout",
     "output_type": "stream",
     "text": [
      "\n",
      "        Parameters\n",
      "        ----------\n",
      "            fun: callable\n",
      "                objective function\n",
      "\n",
      "            x: ndarray\n",
      "                Initial state\n",
      "\n",
      "            sens: callable\n",
      "                Ensemble sensitivity\n",
      "\n",
      "            bounds: list, optional\n",
      "                (min, max) pairs for each element in x. None is used to specify no bound.\n",
      "\n",
      "            options: dict\n",
      "                Optimization options\n",
      "\n",
      "                - maxiter: maximum number of iterations (default 10)\n",
      "                - restart: restart optimization from a restart file (default false)\n",
      "                - restartsave: save a restart file after each successful iteration (defalut false)\n",
      "                - tol: convergence tolerance for the objective function (default 1e-6)\n",
      "                - alpha: weight between previous and new step (default 0.1)\n",
      "                - alpha_maxiter: maximum number of backtracing trials (default 5)\n",
      "                - resample: number indicating how many times resampling is tried if no improvement is found\n",
      "                - cov_factor: factor used to shrink the covariance for each resampling trial (defalut 0.5)\n",
      "                - inflation_factor: term used to weight down prior influence (defalult 1)\n",
      "                - savedata: specify which class variables to save to the result files (state, objective function\n",
      "                            value, iteration number, number of function evaluations, and number of gradient\n",
      "                            evaluations, are always saved)\n",
      "        \n"
     ]
    },
    {
     "name": "stderr",
     "output_type": "stream",
     "text": [
      "2023-11-28 10:10:38,941 : INFO : popt.loop.optimize :        ====== Running optimization - SmcOpt ======\n",
      "2023-11-28 10:10:38,942 : INFO : popt.loop.optimize : \n",
      "{'alpha': 0.2,\n",
      " 'alpha_maxiter': 3,\n",
      " 'beta': 0.1,\n",
      " 'datatype': ['fopt', 'fgpt', 'fwpt', 'fwit'],\n",
      " 'hessian': False,\n",
      " 'inflation_factor': 10,\n",
      " 'maxiter': 5,\n",
      " 'nesterov': True,\n",
      " 'optimizer': 'GA',\n",
      " 'resample': 0,\n",
      " 'restart': False,\n",
      " 'restartsave': True,\n",
      " 'savedata': ['alpha', 'obj_func_values', 'best_state', 'best_func'],\n",
      " 'tol': 1e-06}\n",
      "2023-11-28 10:10:38,942 : INFO : popt.loop.optimize :        iter       alpha_iter obj_func        step-size       \n",
      "2023-11-28 10:10:38,943 : INFO : popt.loop.optimize :        0                     -1.9349e-01    \n",
      "2023-11-28 10:10:48,383 : INFO : popt.loop.optimize :        1          0          -3.6301e-01     2.00e-01       \n",
      "2023-11-28 10:10:58,212 : INFO : popt.loop.optimize :        2          0          -3.7386e-01     2.00e-01       \n",
      "2023-11-28 10:11:07,416 : INFO : popt.loop.optimize :        3          0          -3.7613e-01     2.00e-01       \n",
      "2023-11-28 10:11:16,445 : INFO : popt.loop.optimize :        4          0          -3.7614e-01     2.00e-01       \n",
      "2023-11-28 10:11:25,099 : INFO : popt.loop.optimize :        5          0          -3.7614e-01     2.00e-01       \n",
      "2023-11-28 10:11:25,101 : INFO : popt.loop.optimize :        Optimization converged in 5 iterations \n",
      "2023-11-28 10:11:25,101 : INFO : popt.loop.optimize :        Optimization converged with final obj_func = -0.3691\n",
      "2023-11-28 10:11:25,101 : INFO : popt.loop.optimize :        Total number of function evaluations = 6\n",
      "2023-11-28 10:11:25,102 : INFO : popt.loop.optimize :        Total number of jacobi evaluations = 5\n",
      "2023-11-28 10:11:25,102 : INFO : popt.loop.optimize :        Total elapsed time = 0.80 minutes\n",
      "2023-11-28 10:11:25,103 : INFO : popt.loop.optimize :        ============================================\n"
     ]
    },
    {
     "data": {
      "text/plain": [
       "<popt.update_schemes.smcopt.SmcOpt at 0x7f070c61d490>"
      ]
     },
     "execution_count": 11,
     "metadata": {},
     "output_type": "execute_result"
    }
   ],
   "source": [
    "ko_smc = deepcopy(ko)\n",
    "ko_smc['savedata'] += [\"best_state\", \"best_func\"]\n",
    "print(SmcOpt.__init__.__doc__)\n",
    "SmcOpt(ensemble.function, x0, args=(cov,), sens=ensemble.calc_ensemble_weights, bounds=bounds, **ko_smc)"
   ]
  },
  {
   "cell_type": "markdown",
   "metadata": {},
   "source": [
    "<font size=4em>Plot the objective function using the function defined above:"
   ]
  },
  {
   "cell_type": "code",
   "execution_count": 12,
   "metadata": {
    "scrolled": false
   },
   "outputs": [
    {
     "data": {
      "image/png": "[encoded data removed]",
      "text/plain": [
       "<Figure size 640x480 with 1 Axes>"
      ]
     },
     "metadata": {},
     "output_type": "display_data"
    }
   ],
   "source": [
    "plot_obj_func()"
   ]
  },
  {
   "cell_type": "markdown",
   "metadata": {},
   "source": [
    "<font size=4em>Example using ensemble gradient approximation with the conjugate gradient (CG) method from scipy.minimize: "
   ]
  },
  {
   "cell_type": "code",
   "execution_count": 13,
   "metadata": {
    "scrolled": true
   },
   "outputs": [
    {
     "name": "stdout",
     "output_type": "stream",
     "text": [
      " message: Desired error not necessarily achieved due to precision loss.\n",
      " success: False\n",
      "  status: 2\n",
      "     fun: -0.3561737322262323\n",
      "       x: [ 5.385e-01  4.052e-01 -8.395e-02]\n",
      "     nit: 4\n",
      "     jac: [ 6.494e-04 -8.862e-04  4.442e-03]\n",
      "    nfev: 60\n",
      "    njev: 49\n"
     ]
    }
   ],
   "source": [
    "res = minimize(ensemble.function, x0, args=(cov,), method='CG', jac=ensemble.gradient, tol=ko['tol'],\n",
    "               callback=ot.save_optimize_results, bounds=bounds, options=ko)\n",
    "print(res)"
   ]
  },
  {
   "cell_type": "markdown",
   "metadata": {},
   "source": [
    "<font size=4em>Example calling EnOpt through scipy.minimize (this does exactly the same as running EnOpt, but with a different random seed since we do not reset the seed):"
   ]
  },
  {
   "cell_type": "code",
   "execution_count": 14,
   "metadata": {
    "scrolled": false
   },
   "outputs": [
    {
     "name": "stderr",
     "output_type": "stream",
     "text": [
      "2023-11-28 10:19:11,409 : INFO : popt.loop.optimize :        ====== Running optimization - EnOpt ======\n",
      "2023-11-28 10:19:11,410 : INFO : popt.loop.optimize : \n",
      "{'alpha': 0.2,\n",
      " 'alpha_maxiter': 3,\n",
      " 'beta': 0.1,\n",
      " 'callback': None,\n",
      " 'constraints': (),\n",
      " 'datatype': ['fopt', 'fgpt', 'fwpt', 'fwit'],\n",
      " 'hessian': False,\n",
      " 'hessp': None,\n",
      " 'inflation_factor': 10,\n",
      " 'maxiter': 5,\n",
      " 'nesterov': True,\n",
      " 'optimizer': 'GA',\n",
      " 'resample': 0,\n",
      " 'restart': False,\n",
      " 'restartsave': True,\n",
      " 'savedata': ['alpha', 'obj_func_values'],\n",
      " 'tol': 1e-06}\n",
      "2023-11-28 10:19:11,410 : INFO : popt.loop.optimize :        iter       alpha_iter obj_func        step-size       cov[0,0]        \n",
      "2023-11-28 10:19:11,410 : INFO : popt.loop.optimize :        0                     -1.9349e-01    \n",
      "2023-11-28 10:19:20,961 : INFO : popt.loop.optimize :        1          0          -3.1062e-01     2.00e-01        3.90e-02       \n",
      "2023-11-28 10:19:30,273 : INFO : popt.loop.optimize :        2          0          -3.5852e-01     2.00e-01        3.92e-02       \n",
      "2023-11-28 10:19:39,305 : INFO : popt.loop.optimize :        3          0          -3.6241e-01     2.00e-01        3.99e-02       \n",
      "2023-11-28 10:19:50,713 : INFO : popt.loop.optimize :        4          0          -3.7241e-01     2.00e-01        4.01e-02       \n",
      "2023-11-28 10:20:00,340 : INFO : popt.loop.optimize :        5          0          -3.7544e-01     2.00e-01        4.01e-02       \n",
      "2023-11-28 10:20:00,342 : INFO : popt.loop.optimize :        Optimization converged in 5 iterations \n",
      "2023-11-28 10:20:00,348 : INFO : popt.loop.optimize :        Optimization converged with final obj_func = -0.3754\n",
      "2023-11-28 10:20:00,350 : INFO : popt.loop.optimize :        Total number of function evaluations = 6\n",
      "2023-11-28 10:20:00,352 : INFO : popt.loop.optimize :        Total number of jacobi evaluations = 5\n",
      "2023-11-28 10:20:00,354 : INFO : popt.loop.optimize :        Total elapsed time = 0.85 minutes\n",
      "2023-11-28 10:20:00,355 : INFO : popt.loop.optimize :        ============================================\n"
     ]
    },
    {
     "data": {
      "text/plain": [
       "<popt.update_schemes.enopt.EnOpt at 0x7f070c4eed00>"
      ]
     },
     "execution_count": 14,
     "metadata": {},
     "output_type": "execute_result"
    }
   ],
   "source": [
    "for file in glob('optimize_result_*'):\n",
    "    os.remove(file)\n",
    "minimize(ensemble.function, x0, args=(cov,), method=EnOpt, jac=ensemble.gradient, hess=ensemble.hessian,\n",
    "         bounds=bounds, options=ko)"
   ]
  },
  {
   "cell_type": "markdown",
   "metadata": {},
   "source": [
    "<font size=4em>Plot the objective function using the function defined above:"
   ]
  },
  {
   "cell_type": "code",
   "execution_count": 15,
   "metadata": {
    "scrolled": false
   },
   "outputs": [
    {
     "data": {
      "image/png": "[encoded data removed]",
      "text/plain": [
       "<Figure size 640x480 with 1 Axes>"
      ]
     },
     "metadata": {},
     "output_type": "display_data"
    }
   ],
   "source": [
    "plot_obj_func()"
   ]
  },
  {
   "cell_type": "markdown",
   "metadata": {},
   "source": [
    "## Setting up the .mako file\n",
    "<font size=4em>The optimization relies on a .mako file for writing the current control variables to the flow simulator input. In this case, the flow simulator is opm-flow [opm-projects.org](opm-projects.org), and the input file is provided as a text file (.DATA file). The .mako file is created by replacing the keywords <span style=\"font-family:Courier;\">WCONINJE</span> and <span style=\"font-family:Courier;\">WCONPROD</span> in the .DATA file with: \n",
    "    \n",
    "    WCONINJE\n",
    "    'INJ-1'  WATER 'OPEN' BHP 2* ${injbhp[0]} /\n",
    "    'INJ-2'  WATER 'OPEN' BHP 2* ${injbhp[1]} /\n",
    "    /\n",
    "\n",
    "    WCONPROD\n",
    "     'PRO-1' 'OPEN' BHP 5* ${prodbhp[0]} /\n",
    "    /\n"
   ]
  },
  {
   "attachments": {
    "jupyter_kernel.png": {
     "image/png": "[encoded data removed]"
    }
   },
   "cell_type": "markdown",
   "metadata": {},
   "source": [
    "## Running locally\n",
    "\n",
    "<font size=4em>It is recommended to run the notebook from a virtual environment. Follow these steps to run this notebook on your own computer: \n",
    "    \n",
    "<font size=4em>*Step 1: Create virtual environment as normal*\n",
    "\n",
    "    python3 -m venv pet_venv\n",
    "\n",
    "<font size=4em>Then activate the environment using:\n",
    "\n",
    "    source pet_venv/bin/activate\n",
    "\n",
    "<font size=4em>*Step 2: Install Jupyter Notebook into virtual environment*\n",
    "\n",
    "    python3 -m pip install ipykernel\n",
    "\n",
    "<font size=4em>*Step 3: Install PET in the virtual environment, see [PET installation](https://github.com/Python-Ensemble-Toolbox/PET)*\n",
    "\n",
    "<font size=4em>*Step 4: Allow Jupyter access to the kernel within the virtual environment*\n",
    "\n",
    "    python3 -m ipykernel install --user --name=pet_venv\n",
    "\n",
    "<font size=4em>Start jupyter notebook, and load tutorial_popt.ipynb (this file). On the jupyter notebook toolbar, select ‘Kernel’ and ‘Change Kernel’. The new kernel is now be available in the list for selection:\n",
    "    \n",
    "![jupyter_kernel.png](attachment:jupyter_kernel.png)"
   ]
  },
  {
   "cell_type": "code",
   "execution_count": null,
   "metadata": {},
   "outputs": [],
   "source": []
  }
 ],
 "metadata": {
  "kernelspec": {
   "display_name": "pet_ecalc_venv",
   "language": "python",
   "name": "pet_ecalc_venv"
  },
  "language_info": {
   "codemirror_mode": {
    "name": "ipython",
    "version": 3
   },
   "file_extension": ".py",
   "mimetype": "text/x-python",
   "name": "python",
   "nbconvert_exporter": "python",
   "pygments_lexer": "ipython3",
   "version": "3.8.10"
  }
 },
 "nbformat": 4,
 "nbformat_minor": 4
}
